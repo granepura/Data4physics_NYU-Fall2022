{
 "cells": [
  {
   "cell_type": "markdown",
   "metadata": {},
   "source": [
    "# PHYS-GA2059 - Statistics and Data Science for Physicists\n",
    "# Student: Gehan Ranepura\n",
    "## Problem Set #1 - Exercise 2 \n",
    "Hogg et al. (2010). Data analysis recipes: Fitting a model to data.\n",
    "https://doi.org/10.48550/arXiv.1008.4686\n",
    "\n",
    "Repeat Exercise 1 but for all the data points in Table 1 on page 6. \n",
    "Your plot should end up looking like Figure 2. What is the standard uncertainty variance $σ_m^2$ on the slope of the line? \n",
    "Is there anything you don't like about the result? \n",
    "Is there anything different about the new points you have included beyond those used in Exercise 1?"
   ]
  },
  {
   "cell_type": "code",
   "execution_count": 1,
   "metadata": {},
   "outputs": [],
   "source": [
    "import sys\n",
    "import pandas as pd\n",
    "import numpy as np\n",
    "import ipywidgets as widgets\n",
    "import IPython\n",
    "import matplotlib as mpl\n",
    "import matplotlib.pyplot as plt\n",
    "\n",
    "from numpy.linalg import inv\n",
    "from IPython import get_ipython\n",
    "get_ipython().run_line_magic('matplotlib', 'inline')\n",
    "from pylab import cm\n",
    "\n",
    "''' Set up Plot Style ''' \n",
    "\n",
    "# plt.style.use(['science','nature'])\n",
    "plt.style.use('classic')\n",
    "mpl.rcParams['axes.grid'] = True\n",
    "mpl.rcParams['axes.grid.which'] = 'both'\n",
    "mpl.rcParams['xtick.minor.visible'] = True\n",
    "\n",
    "## use (4,3) for 2 column plots, (8,6) for single plots.\n",
    "fgsz_1 = (8,6)\n",
    "fgsz_2 = (4,3)"
   ]
  },
  {
   "cell_type": "code",
   "execution_count": 2,
   "metadata": {},
   "outputs": [
    {
     "name": "stdout",
     "output_type": "stream",
     "text": [
      "[[201. 592.  61.]\n",
      " [244. 401.  25.]\n",
      " [ 47. 583.  38.]\n",
      " [287. 402.  15.]\n",
      " [203. 495.  21.]\n",
      " [ 58. 173.  15.]\n",
      " [210. 479.  27.]\n",
      " [202. 504.  14.]\n",
      " [198. 510.  30.]\n",
      " [158. 416.  16.]\n",
      " [165. 393.  14.]\n",
      " [201. 442.  25.]\n",
      " [157. 317.  52.]\n",
      " [131. 311.  16.]\n",
      " [166. 400.  34.]\n",
      " [160. 337.  31.]\n",
      " [186. 423.  42.]\n",
      " [125. 334.  26.]\n",
      " [218. 533.  16.]\n",
      " [146. 344.  22.]]\n"
     ]
    }
   ],
   "source": [
    "data_file = np.loadtxt(\"data.txt\", dtype=float)\n",
    "data = data_file[:,0:3]\n",
    "print(data)\n",
    "\n",
    "#  Read data file at path 'file_path'. Return a np array data = array(...).\n",
    "#  Read data to ignore the first 5 data points"
   ]
  },
  {
   "cell_type": "markdown",
   "metadata": {},
   "source": [
    "# Standard weighted least-square fit\n",
    "\n",
    "The total squared error, scaled by the uncertainties ($\\chi^2$), is given by\n",
    "$$\\chi^2=\\sum_{i=1}^N \\frac{\\left[y_i-f\\left(x_i\\right)\\right]^2}{\\sigma_{y i}^{2}} \\equiv[\\boldsymbol{Y}-\\boldsymbol{X} \\boldsymbol{\\Theta}]^{\\top} \\boldsymbol{C}^{-1}[\\boldsymbol{Y}-\\boldsymbol{X} \\boldsymbol{\\Theta}]$$  \n",
    "\n",
    "where, \n",
    "$$ f\\left(x_i\\right) = m x_i + b $$ \n",
    "\n",
    "The linear weighted least-square fit $\\Theta = (m,b)$ is solved to be:\n",
    "$$\\hat{\\mathbb{  \\Theta }} = \n",
    "\\left[\\begin{array}{c}\n",
    "\\hat{m}  \\\\\n",
    "\\hat{b} \n",
    "\\end{array}\\right] =\n",
    "\\text{argmin}_{m,b} \\{\\chi^2\\}= \\left[\\boldsymbol{X}^{\\top} \\boldsymbol{C}^{-1} \\boldsymbol{X}\\right]^{-1}\\left[\\boldsymbol{X}^{\\top} \\boldsymbol{C}^{-1} \\boldsymbol{Y}\\right]$$\n",
    "\n",
    "where, the matrix dimensions are\n",
    "$$ \\hat{\\mathbb{  \\Theta }} \\rightarrow \\boldsymbol{ [ (2 x n) * (n x n) * (n x 2) ]  ^ {-1} * [ (2 x n) * (n x n) * (n x 1) ] } $$\n",
    "\n",
    "$$ \\hat{\\mathbb{  \\Theta }} \\rightarrow \\boldsymbol{ (2 x 2) * (2 x 1) } $$\n",
    "\n",
    "$$ \\hat{\\mathbb{  \\Theta }} \\rightarrow \\boldsymbol{ (2 x 1) } $$"
   ]
  },
  {
   "cell_type": "markdown",
   "metadata": {},
   "source": [
    "## Build Matrices"
   ]
  },
  {
   "cell_type": "code",
   "execution_count": 3,
   "metadata": {},
   "outputs": [],
   "source": [
    "# Row Vectors of data\n",
    "xs = data[:,0]\n",
    "ys = data[:,1]\n",
    "sigs = data[:,2]\n",
    "\n",
    "# Column Vectors for Matrices\n",
    "xs = xs[..., None] \n",
    "num_rows, num_cols = xs.shape\n",
    "X0 = np.ones((num_rows,1))\n",
    "X = np.hstack((xs,X0))\n",
    "Y = ys[..., None] \n",
    "\n",
    "# Create covariance Matrix\n",
    "sigs_inv2 = sigs**-2\n",
    "Cinv = np.diag(sigs_inv2)\n",
    "\n",
    "# Solve Matrix Multiplication Equation\n",
    "A = X.T @ Cinv @ X\n",
    "B = X.T @ Cinv @ Y\n",
    "theta = np.linalg.solve(A, B)\n",
    "\n",
    "m = float(theta[0][0])\n",
    "b = float(theta[1][0])"
   ]
  },
  {
   "cell_type": "markdown",
   "metadata": {},
   "source": [
    "The uncertainty in parameters $m,b$ is given by \n",
    "$ [ \\boldsymbol{X}^{\\top} \\boldsymbol{C}^{-1} \\boldsymbol{X} ]^{-1} $\n",
    "\n",
    "Explicitly,\n",
    "\n",
    "$$\n",
    "[ \\boldsymbol{X}^{\\top} \\boldsymbol{C}^{-1} \\boldsymbol{X} ]^{-1} = \n",
    "\\left[\\begin{array}{cc}\n",
    "\\sigma_m^2 & \\sigma_{m,b} \\\\\n",
    "\\sigma_{m,b} & \\sigma_b^2 \n",
    "\\end{array}\\right]\n",
    "$$\n",
    "\n",
    "Or,\n",
    "$$ \\sigma_m = \\sqrt{\\frac{A_{22} }{A_{11} A_{22} - A_{12} ^2}}, \\sigma_b = \\sqrt{\\frac{A_{11} }{A_{11} A_{22} - A_{12} ^2}} $$"
   ]
  },
  {
   "cell_type": "code",
   "execution_count": 4,
   "metadata": {},
   "outputs": [
    {
     "name": "stdout",
     "output_type": "stream",
     "text": [
      "1.08 \\pm 0.08\n",
      "213.27 \\pm 14.39\n"
     ]
    }
   ],
   "source": [
    "# Solve Uncertainties\n",
    "invA  = np.linalg.inv(A)\n",
    "m_sig = np.sqrt(invA[0][0])\n",
    "b_sig = np.sqrt(invA[1][1])\n",
    "\n",
    "A11 = float(A[0][0])\n",
    "A12 = float(A[0][1])\n",
    "A22 = float(A[1][1])\n",
    "\n",
    "m_sig2 = np.sqrt((A22)/(A11 * A22 - A12 * A12) )\n",
    "b_sig2 = np.sqrt((A11)/(A11 * A22 - A12 * A12) )\n",
    "\n",
    "m_res =  \"%s \\pm %s\"%(round(m,2),round(m_sig,2))\n",
    "b_res =  \"%s \\pm %s\"%(round(b,2),round(b_sig,2))\n",
    "\n",
    "print(m_res)\n",
    "print(b_res)"
   ]
  },
  {
   "cell_type": "code",
   "execution_count": 5,
   "metadata": {},
   "outputs": [
    {
     "data": {
      "image/png": "[encoded data removed]",
      "text/plain": [
       "<Figure size 640x480 with 1 Axes>"
      ]
     },
     "metadata": {},
     "output_type": "display_data"
    },
    {
     "data": {
      "text/plain": [
       "<Figure size 640x480 with 0 Axes>"
      ]
     },
     "metadata": {},
     "output_type": "display_data"
    }
   ],
   "source": [
    "#%matplotlib widget\n",
    "#from IPython import get_ipython\n",
    "#get_ipython().run_line_magic('matplotlib', 'inline')\n",
    "\n",
    "fig, ax = plt.subplots(figsize=fgsz_1)\n",
    "\n",
    "ax.set_xlim([0, 300])\n",
    "ax.set_ylim([0, 700])\n",
    "ax.set_xlabel('x')\n",
    "ax.set_ylabel('y')\n",
    "\n",
    "xx = np.linspace(0,300,400)\n",
    "\n",
    "ax.errorbar(xs , ys, yerr = sigs, fmt='o')  \n",
    "ax.plot(xx , m * xx + b, label='$y = \\hat{m} x+\\hat{b}$')  \n",
    "         \n",
    "ax.set_title('Standard weighted linear least-square fit' )\n",
    "ax.annotate(\"$y = (%s) x + (%s) $\"%(m_res,b_res)   , xy=(1, 1),  xycoords='data',\n",
    "            xytext=(0.8, 0.15), textcoords='axes fraction',\n",
    "            # arrowprops=dict(facecolor='black', shrink=0.05),\n",
    "            horizontalalignment='right', verticalalignment='bottom',\n",
    "            )\n",
    "\n",
    "plt.legend()\n",
    "plt.show()\n",
    "plt.savefig('plot.png', transparent=False, bbox_inches='tight')"
   ]
  },
  {
   "cell_type": "markdown",
   "metadata": {},
   "source": [
    "# Questions\n",
    "\n",
    "Is there anything you don't like about the result?\n",
    "\n",
    "~ From just adding data points 1-4 from the dataset, our measurements for $\\hat{m},\\hat{b}$ are vastly different.\n",
    "$\\hat{b}$ particularly, which increased in magnitude from 34.05 to 213.27\n",
    "\n",
    "Is there anything different about the new points you have included beyond those used in Exercise 1? \n",
    "\n",
    "~ The new points included seem to be outliers in the trend of the data. "
   ]
  },
  {
   "cell_type": "code",
   "execution_count": null,
   "metadata": {},
   "outputs": [],
   "source": []
  }
 ],
 "metadata": {
  "kernelspec": {
   "display_name": "Python 3",
   "language": "python",
   "name": "python3"
  },
  "language_info": {
   "codemirror_mode": {
    "name": "ipython",
    "version": 3
   },
   "file_extension": ".py",
   "mimetype": "text/x-python",
   "name": "python",
   "nbconvert_exporter": "python",
   "pygments_lexer": "ipython3",
   "version": "3.8.5"
  }
 },
 "nbformat": 4,
 "nbformat_minor": 4
}
